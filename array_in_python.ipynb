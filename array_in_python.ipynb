{
  "nbformat": 4,
  "nbformat_minor": 0,
  "metadata": {
    "colab": {
      "provenance": [],
      "authorship_tag": "ABX9TyNEWo2hNd4g1fA4rRbu6Pr4",
      "include_colab_link": true
    },
    "kernelspec": {
      "name": "python3",
      "display_name": "Python 3"
    },
    "language_info": {
      "name": "python"
    }
  },
  "cells": [
    {
      "cell_type": "markdown",
      "metadata": {
        "id": "view-in-github",
        "colab_type": "text"
      },
      "source": [
        "<a href=\"https://colab.research.google.com/github/adarsh-one/python-and-numpy-array/blob/main/array_in_python.ipynb\" target=\"_parent\"><img src=\"https://colab.research.google.com/assets/colab-badge.svg\" alt=\"Open In Colab\"/></a>"
      ]
    },
    {
      "cell_type": "code",
      "execution_count": null,
      "metadata": {
        "id": "XbOHsw8Rehoj"
      },
      "outputs": [],
      "source": [
        "'''\n",
        "Type of data:\n",
        "\n",
        "1. Primitive = Basic, original, necessary, data types using which more complex data types can be made.\n",
        "\n",
        "  a. int\n",
        "  b. float\n",
        "  c. complex\n",
        "  d. string\n",
        "  e. bool\n",
        "\n",
        "2. Non Primitive = Complex data types, which stores and process large amt. of data and made of several combination of primitive data types.\n",
        "\n",
        "  a. list\n",
        "  b. tuple\n",
        "  c. dict\n",
        "  d. set\n",
        "\n",
        "  e. array = stores only single data type data but can store many data of same data types\n",
        "             all data are sequentially stored in memory\n",
        "  f. linked list = can store many data of diff data types\n",
        "                   but all nodes are connected and\n",
        "                   are not sequentially stored in mem\n",
        "  g. stacks\n",
        "  h. queues\n",
        "\n",
        "  i. trees = stores data in heiarchial structure\n",
        "             all nodes are linked\n",
        "             nodes are not sequentially stored in memory\n",
        "  j. graphs = stores data like dictionary books\n",
        "              stores data in a network form meaning it will have edges and nodes\n",
        "              edges and nodes both are neccessary attributes of graphs to perform any functionalities\n",
        "\n",
        "  ## we have to focus only on array because \"numpy\" lib is completely based on array\n",
        "  ## in real word data are stored in table format\n",
        "     but non primitive data types cannot store in table format\n",
        "     pandas have advanced data types and stores data in a table format(series and dataframe)\n",
        "     tables = relational database\n",
        "\n",
        "  ## list, tuples, set, dict cannot really store huge amount of data and complex data\n",
        "     therefore,  to overcome that we use new non primitive data type called array\n",
        "\n",
        "Array(Advancd Non Primitve):\n",
        "\n",
        "1. Simple , fundamental , most used\n",
        "2. Similar to (list data type variable) list objects\n",
        "3. Ordered(Indexed) data type\n",
        "4. stores multiple values of single data type only\n",
        "5. useful when need to store large amt. of data wheres list,tuples cannot handle large amt. of data\n",
        "6. used for effi. memory management because in python arrays are allowed to change type of elements /values stored in array therefore less mem usage but in list this can also be done\n",
        "7. useful in sorting and searching\n",
        "\n",
        "Diff. btw. list and array:\n",
        "\n",
        "1. list = stores multiple value  of multiple data types.\n",
        "   array = stores multiple value of single date type.\n",
        "           can store large amount of data\n",
        "   ## arrays in python only available through \"array module\" whereas list does not have its separate module\n",
        "           can store large amount of data\n",
        "\n",
        "2. list = slower because it stores an additional information i.e, types of its every value since it store values of multiple data types\n",
        "   arrays = since it only stores single data type values therefore it doesnot need to store type of its value hence faster\n",
        "\n",
        "3. List = they are more flexible meaning\n",
        "          can store multiple data type's values\n",
        "          useful when size of collection can vary dynamically\n",
        "   arrays = ideal for mathematical computing\n",
        "            python provides special array called \"numpy.array\" for mathematical computing\n",
        "\n",
        "4. list = you cannot change the type of the individual value stored in list sorry wrong you can change data type of individual value\n",
        "   array = but in numpy array you can change type of individual value eg: from float to int , hence can consume less memory therefore efficient memory management\n",
        "\n",
        "5. list can be used store many data type values\n",
        "   but numpy array mostly used to store numerical values for only math computing.\n",
        "\n",
        "\n",
        "'''\n"
      ]
    },
    {
      "cell_type": "code",
      "source": [
        "## Prove that type of individual elements can be changed in list also\n",
        "lst = [1,3.0,2]\n",
        "\n",
        "print(type(lst[1]))\n",
        "print(id(lst))\n",
        "lst[1] = int(lst[1])\n",
        "\n",
        "print(type(lst[1]))\n",
        "\n",
        "print(lst)\n",
        "print(id(lst))"
      ],
      "metadata": {
        "colab": {
          "base_uri": "https://localhost:8080/"
        },
        "id": "9s6zQg4Js8mQ",
        "outputId": "a5b9b1e4-cb12-4e3b-850f-9af6cbf768e3"
      },
      "execution_count": null,
      "outputs": [
        {
          "output_type": "stream",
          "name": "stdout",
          "text": [
            "<class 'float'>\n",
            "135740457017472\n",
            "<class 'int'>\n",
            "[1, 3, 2]\n",
            "135740457017472\n"
          ]
        }
      ]
    },
    {
      "cell_type": "code",
      "source": [
        "'''\n",
        "Python keys/functions/methods\n",
        "\n",
        "1. Memory usage comparison\n",
        "\n",
        "   getsizeof() = function\n",
        "                 require sys module to be imported\n",
        "                 \"import sys\"\n",
        "\n",
        "   to use array in Python we are required to import array module \"import array\"\n",
        "\n",
        "\n",
        "Note :  module is basically a package where all the related function to arrays are stored\n",
        "        import is keyword in python to access any module in existing programme\n",
        "\n",
        "Note : to access any function from a module eg: array function from array module(ay)\n",
        "       you need to first call the module everytime (not import) then access array dunction using . op\n",
        "       eg. new_arr = ay.array()\n",
        "\n",
        "'''"
      ],
      "metadata": {
        "id": "_hvujKMStFMW"
      },
      "execution_count": null,
      "outputs": []
    },
    {
      "cell_type": "code",
      "source": [
        "## Creating list\n",
        "\n",
        "lst = [100,200,300,400]\n",
        "print(lst)\n",
        "print(type(lst))"
      ],
      "metadata": {
        "colab": {
          "base_uri": "https://localhost:8080/"
        },
        "id": "WmYhDPVYyvk6",
        "outputId": "87bbe69e-7370-4bf8-8fef-619b45113111"
      },
      "execution_count": null,
      "outputs": [
        {
          "output_type": "stream",
          "name": "stdout",
          "text": [
            "[100, 200, 300, 400]\n",
            "<class 'list'>\n"
          ]
        }
      ]
    },
    {
      "cell_type": "code",
      "source": [
        "## Creating array\n",
        "\n",
        "## 1. import array module\n",
        "import array as arr\n",
        "\n",
        "## 2. Creating array\n",
        "##    accessing arr module and from this we are calling array function in it.\n",
        "##    array function in arr module take 2 args : arr.array('data_type' , list)\n",
        "new_arr = arr.array('f',[1.1,1.2,1,2])\n",
        "print(new_arr)\n",
        "print(type(new_arr))\n",
        "print(new_arr.dtype)\n",
        "\n",
        "## here no method called dtype is defined for the objs of class array.array"
      ],
      "metadata": {
        "colab": {
          "base_uri": "https://localhost:8080/",
          "height": 211
        },
        "id": "AKHC4C2hzE2V",
        "outputId": "bf8384e2-1f49-4037-908f-c8fdc406a0f7"
      },
      "execution_count": null,
      "outputs": [
        {
          "output_type": "stream",
          "name": "stdout",
          "text": [
            "array('f', [1.100000023841858, 1.2000000476837158, 1.0, 2.0])\n",
            "<class 'array.array'>\n"
          ]
        },
        {
          "output_type": "error",
          "ename": "AttributeError",
          "evalue": "'array.array' object has no attribute 'dtype'",
          "traceback": [
            "\u001b[0;31m---------------------------------------------------------------------------\u001b[0m",
            "\u001b[0;31mAttributeError\u001b[0m                            Traceback (most recent call last)",
            "\u001b[0;32m<ipython-input-16-6b92e7afc63f>\u001b[0m in \u001b[0;36m<cell line: 12>\u001b[0;34m()\u001b[0m\n\u001b[1;32m     10\u001b[0m \u001b[0mprint\u001b[0m\u001b[0;34m(\u001b[0m\u001b[0mnew_arr\u001b[0m\u001b[0;34m)\u001b[0m\u001b[0;34m\u001b[0m\u001b[0;34m\u001b[0m\u001b[0m\n\u001b[1;32m     11\u001b[0m \u001b[0mprint\u001b[0m\u001b[0;34m(\u001b[0m\u001b[0mtype\u001b[0m\u001b[0;34m(\u001b[0m\u001b[0mnew_arr\u001b[0m\u001b[0;34m)\u001b[0m\u001b[0;34m)\u001b[0m\u001b[0;34m\u001b[0m\u001b[0;34m\u001b[0m\u001b[0m\n\u001b[0;32m---> 12\u001b[0;31m \u001b[0mprint\u001b[0m\u001b[0;34m(\u001b[0m\u001b[0mnew_arr\u001b[0m\u001b[0;34m.\u001b[0m\u001b[0mdtype\u001b[0m\u001b[0;34m)\u001b[0m\u001b[0;34m\u001b[0m\u001b[0;34m\u001b[0m\u001b[0m\n\u001b[0m",
            "\u001b[0;31mAttributeError\u001b[0m: 'array.array' object has no attribute 'dtype'"
          ]
        }
      ]
    },
    {
      "cell_type": "code",
      "source": [
        "'''\n",
        "This array from array module is of no use for various reasons:\n",
        "1. when creating array from array module it requires to call an array function and then you need to specify the 1st arg = datatype, and 2nd arg = list\n",
        "   which is not simple as compared to when we create list\n",
        "\n",
        "2. when printing it outputs, data type also gets printed and some garbage value in case of decimal numbers\n",
        "   which is not as simple as when we outputs lists\n",
        "\n",
        "3. when printing type of array objects of array class in array module , it outputs array.array, what does it means , not easy to understand\n",
        "   this is not as simple as list type which outputs only list class\n",
        "\n",
        "4. and many more\n",
        "\n",
        "Hence we use array from numpy lib\n",
        "\n",
        "'''"
      ],
      "metadata": {
        "id": "O1ylZgjO0qML"
      },
      "execution_count": null,
      "outputs": []
    },
    {
      "cell_type": "code",
      "source": [
        "## Creating array using numpy lib/module which has array method/function\n",
        "\n",
        "import numpy as np\n",
        "\n",
        "arr_1 = np.array([1,2,3,4])\n",
        "\n",
        "print(arr_1)\n",
        "print(type(arr_1))\n",
        "\n",
        "## new_arr is an object of numpy.ndarray class where array method is defined\n",
        "\n",
        "## to check data type use obj.dtype method which is only define for numpy.ndarray , this method is not general function\n",
        "\n",
        "print(arr_1.dtype)"
      ],
      "metadata": {
        "colab": {
          "base_uri": "https://localhost:8080/"
        },
        "id": "PhUu4T-Y5-IH",
        "outputId": "62f4b6e9-ca5e-4921-9334-3dc02a885bb7"
      },
      "execution_count": 2,
      "outputs": [
        {
          "output_type": "stream",
          "name": "stdout",
          "text": [
            "[1 2 3 4]\n",
            "<class 'numpy.ndarray'>\n",
            "int64\n"
          ]
        }
      ]
    },
    {
      "cell_type": "code",
      "source": [
        "arr_2 = np.array([1.2,1.3,1.4])\n",
        "print(arr_2)\n",
        "print(type(arr_2))\n",
        "print(arr_2.dtype)"
      ],
      "metadata": {
        "colab": {
          "base_uri": "https://localhost:8080/"
        },
        "id": "8BDorkkt6QQN",
        "outputId": "28df72e6-7af9-4e3c-f37c-9d02f51aa7ed"
      },
      "execution_count": null,
      "outputs": [
        {
          "output_type": "stream",
          "name": "stdout",
          "text": [
            "[1.2 1.3 1.4]\n",
            "<class 'numpy.ndarray'>\n",
            "float64\n"
          ]
        }
      ]
    },
    {
      "cell_type": "code",
      "source": [
        "## diff btw list and array\n",
        "\n",
        "import sys\n",
        "\n",
        "lst_ = [100,200,300]\n",
        "print(lst_)\n",
        "size_lst = sys.getsizeof(lst_)\n",
        "print(size_lst)\n",
        "\n",
        "A = np.array([100,200,300])\n",
        "print(A)\n",
        "size_arr = sys.getsizeof(A)\n",
        "print(size_arr)"
      ],
      "metadata": {
        "colab": {
          "base_uri": "https://localhost:8080/"
        },
        "id": "H3laSINr8dLN",
        "outputId": "5f3ec740-728f-4ead-a602-aa0bc108f5b2"
      },
      "execution_count": 4,
      "outputs": [
        {
          "output_type": "stream",
          "name": "stdout",
          "text": [
            "[100, 200, 300]\n",
            "88\n",
            "[100 200 300]\n",
            "136\n"
          ]
        }
      ]
    },
    {
      "cell_type": "code",
      "source": [
        "## ndim = no.of sq outer brackets"
      ],
      "metadata": {
        "id": "IUfm0PMj-B5Z"
      },
      "execution_count": null,
      "outputs": []
    },
    {
      "cell_type": "code",
      "source": [
        "## array traversal\n",
        "\n",
        "import numpy as np\n",
        "\n",
        "arr = np.array([1,2,3,4,5,6,7,8,9])\n",
        "\n",
        "for value in arr:\n",
        "  if value%2 == 0:\n",
        "    print(value)"
      ],
      "metadata": {
        "colab": {
          "base_uri": "https://localhost:8080/"
        },
        "id": "LAdBhT2GBqcc",
        "outputId": "e0ec2e54-a707-48d0-978e-518fb9351945"
      },
      "execution_count": null,
      "outputs": [
        {
          "output_type": "stream",
          "name": "stdout",
          "text": [
            "2\n",
            "4\n",
            "6\n",
            "8\n"
          ]
        }
      ]
    },
    {
      "cell_type": "code",
      "source": [
        "lst = [[1,2],[3,4],[3,3]]\n",
        "\n",
        "arr2 = np.array(lst)\n",
        "\n",
        "print(arr2.ndim)\n",
        "\n",
        "## this way is too good\n",
        "for x,y in arr2:\n",
        "  print(x,y)\n",
        "\n",
        "\n"
      ],
      "metadata": {
        "colab": {
          "base_uri": "https://localhost:8080/"
        },
        "id": "kDRhfFiiCie8",
        "outputId": "8e50f3ab-4500-4d9e-d0fc-cd81164f247a"
      },
      "execution_count": null,
      "outputs": [
        {
          "output_type": "stream",
          "name": "stdout",
          "text": [
            "2\n",
            "1 2\n",
            "3 4\n",
            "3 3\n"
          ]
        }
      ]
    },
    {
      "cell_type": "code",
      "source": [
        "arr3 = np.array([[9,8,7],[6,5,4],[3,2,1]])\n",
        "\n",
        "for value in arr3:\n",
        "  print(value)\n",
        "\n",
        "for x,y in enumerate(arr3):\n",
        "  print(x,y)\n",
        "\n",
        "## look at this, so amazing\n",
        "for x,y,z in arr3:\n",
        "  print(x,y,z)\n",
        "\n",
        "\n",
        "for x,y,z in arr3:\n",
        "  print(x)\n",
        "  print(y)\n",
        "  print(z)"
      ],
      "metadata": {
        "colab": {
          "base_uri": "https://localhost:8080/"
        },
        "id": "gXJWsf-6Ch1W",
        "outputId": "3d10657f-5324-4ffc-ae7f-4dd3ec81c485"
      },
      "execution_count": null,
      "outputs": [
        {
          "output_type": "stream",
          "name": "stdout",
          "text": [
            "[9 8 7]\n",
            "[6 5 4]\n",
            "[3 2 1]\n",
            "0 [9 8 7]\n",
            "1 [6 5 4]\n",
            "2 [3 2 1]\n",
            "9 8 7\n",
            "6 5 4\n",
            "3 2 1\n",
            "9\n",
            "8\n",
            "7\n",
            "6\n",
            "5\n",
            "4\n",
            "3\n",
            "2\n",
            "1\n"
          ]
        }
      ]
    },
    {
      "cell_type": "code",
      "source": [
        "## np.append(arr, value) function, output a new np.array\n",
        "\n",
        "arr4 = np.array([\"red\",\"yellow\",\"orange\"])\n",
        "arr4.append(\"pink\")\n",
        "\n",
        "print(arr4)"
      ],
      "metadata": {
        "colab": {
          "base_uri": "https://localhost:8080/",
          "height": 193
        },
        "id": "YDWDMGg6EOUN",
        "outputId": "039b2c9f-3da5-4548-8d28-94036f18d5a0"
      },
      "execution_count": null,
      "outputs": [
        {
          "output_type": "error",
          "ename": "AttributeError",
          "evalue": "'numpy.ndarray' object has no attribute 'append'",
          "traceback": [
            "\u001b[0;31m---------------------------------------------------------------------------\u001b[0m",
            "\u001b[0;31mAttributeError\u001b[0m                            Traceback (most recent call last)",
            "\u001b[0;32m<ipython-input-11-533b820e9ab9>\u001b[0m in \u001b[0;36m<cell line: 2>\u001b[0;34m()\u001b[0m\n\u001b[1;32m      1\u001b[0m \u001b[0marr4\u001b[0m \u001b[0;34m=\u001b[0m \u001b[0mnp\u001b[0m\u001b[0;34m.\u001b[0m\u001b[0marray\u001b[0m\u001b[0;34m(\u001b[0m\u001b[0;34m[\u001b[0m\u001b[0;34m\"red\"\u001b[0m\u001b[0;34m,\u001b[0m\u001b[0;34m\"yellow\"\u001b[0m\u001b[0;34m,\u001b[0m\u001b[0;34m\"orange\"\u001b[0m\u001b[0;34m]\u001b[0m\u001b[0;34m)\u001b[0m\u001b[0;34m\u001b[0m\u001b[0;34m\u001b[0m\u001b[0m\n\u001b[0;32m----> 2\u001b[0;31m \u001b[0marr4\u001b[0m\u001b[0;34m.\u001b[0m\u001b[0mappend\u001b[0m\u001b[0;34m(\u001b[0m\u001b[0;34m\"pink\"\u001b[0m\u001b[0;34m)\u001b[0m\u001b[0;34m\u001b[0m\u001b[0;34m\u001b[0m\u001b[0m\n\u001b[0m\u001b[1;32m      3\u001b[0m \u001b[0;34m\u001b[0m\u001b[0m\n\u001b[1;32m      4\u001b[0m \u001b[0mprint\u001b[0m\u001b[0;34m(\u001b[0m\u001b[0marr4\u001b[0m\u001b[0;34m)\u001b[0m\u001b[0;34m\u001b[0m\u001b[0;34m\u001b[0m\u001b[0m\n",
            "\u001b[0;31mAttributeError\u001b[0m: 'numpy.ndarray' object has no attribute 'append'"
          ]
        }
      ]
    },
    {
      "cell_type": "code",
      "source": [
        "new_arr = arr4.append(\"pink\")\n",
        "print(new_arr)"
      ],
      "metadata": {
        "colab": {
          "base_uri": "https://localhost:8080/",
          "height": 158
        },
        "id": "H1x8IEbdGuld",
        "outputId": "9ea29319-b464-4764-b910-14fc2cbe16aa"
      },
      "execution_count": null,
      "outputs": [
        {
          "output_type": "error",
          "ename": "AttributeError",
          "evalue": "'numpy.ndarray' object has no attribute 'append'",
          "traceback": [
            "\u001b[0;31m---------------------------------------------------------------------------\u001b[0m",
            "\u001b[0;31mAttributeError\u001b[0m                            Traceback (most recent call last)",
            "\u001b[0;32m<ipython-input-12-78234bf66fe8>\u001b[0m in \u001b[0;36m<cell line: 1>\u001b[0;34m()\u001b[0m\n\u001b[0;32m----> 1\u001b[0;31m \u001b[0mnew_arr\u001b[0m \u001b[0;34m=\u001b[0m \u001b[0marr4\u001b[0m\u001b[0;34m.\u001b[0m\u001b[0mappend\u001b[0m\u001b[0;34m(\u001b[0m\u001b[0;34m\"pink\"\u001b[0m\u001b[0;34m)\u001b[0m\u001b[0;34m\u001b[0m\u001b[0;34m\u001b[0m\u001b[0m\n\u001b[0m\u001b[1;32m      2\u001b[0m \u001b[0mprint\u001b[0m\u001b[0;34m(\u001b[0m\u001b[0mnew_arr\u001b[0m\u001b[0;34m)\u001b[0m\u001b[0;34m\u001b[0m\u001b[0;34m\u001b[0m\u001b[0m\n",
            "\u001b[0;31mAttributeError\u001b[0m: 'numpy.ndarray' object has no attribute 'append'"
          ]
        }
      ]
    },
    {
      "cell_type": "code",
      "source": [
        "new_arr = np.append(arr4,\"pink\")\n",
        "print(new_arr)\n"
      ],
      "metadata": {
        "colab": {
          "base_uri": "https://localhost:8080/"
        },
        "id": "_OnUP532G9qu",
        "outputId": "e10bb4a4-45b1-4c5e-d1cb-5a9b3e111237"
      },
      "execution_count": null,
      "outputs": [
        {
          "output_type": "stream",
          "name": "stdout",
          "text": [
            "['red' 'yellow' 'orange' 'pink']\n"
          ]
        }
      ]
    },
    {
      "cell_type": "code",
      "source": [
        "new_arr = np.append(arr4,[\"mango\"])\n",
        "print(new_arr)"
      ],
      "metadata": {
        "colab": {
          "base_uri": "https://localhost:8080/"
        },
        "id": "1YkdPZQCHYNS",
        "outputId": "2bbbd549-d911-428d-fe9c-0e0b1df28b27"
      },
      "execution_count": null,
      "outputs": [
        {
          "output_type": "stream",
          "name": "stdout",
          "text": [
            "['red' 'yellow' 'orange' 'mango']\n"
          ]
        }
      ]
    },
    {
      "cell_type": "code",
      "source": [
        "new_arr = np.append(arr4,[\"pink\",\"mango\"])\n",
        "print(new_arr)"
      ],
      "metadata": {
        "colab": {
          "base_uri": "https://localhost:8080/"
        },
        "id": "8GC5NpCmHxmq",
        "outputId": "11c80ebb-b1d6-4a81-d66c-977fb047b950"
      },
      "execution_count": null,
      "outputs": [
        {
          "output_type": "stream",
          "name": "stdout",
          "text": [
            "['red' 'yellow' 'orange' 'pink' 'mango']\n"
          ]
        }
      ]
    },
    {
      "cell_type": "code",
      "source": [
        "## np.concatenate((arr1, arr2/any iterable)), output new np.array\n",
        "new_arr = np.concatenate((arr4,new_arr))\n",
        "print(new_arr)"
      ],
      "metadata": {
        "colab": {
          "base_uri": "https://localhost:8080/"
        },
        "id": "MjypyuX9IaZb",
        "outputId": "6fa01b61-525d-4e22-8753-af547844af81"
      },
      "execution_count": null,
      "outputs": [
        {
          "output_type": "stream",
          "name": "stdout",
          "text": [
            "['red' 'yellow' 'orange' 'red' 'yellow' 'orange' 'pink' 'mango']\n"
          ]
        }
      ]
    },
    {
      "cell_type": "code",
      "source": [
        "## As you can see numpy lib is ver compatible with python standard lib, nice\n",
        "lst1 = [\"a\",\"b\",\"c\"]\n",
        "\n",
        "new_arr1 = np.concatenate((lst1,[\"x\",\"y\",\"z\"]))\n",
        "\n",
        "print(new_arr1)"
      ],
      "metadata": {
        "colab": {
          "base_uri": "https://localhost:8080/"
        },
        "id": "rNSGqfwlI3RJ",
        "outputId": "3e06bb89-2ce8-4429-9a7f-c8b52139435f"
      },
      "execution_count": 6,
      "outputs": [
        {
          "output_type": "stream",
          "name": "stdout",
          "text": [
            "['a' 'b' 'c' 'x' 'y' 'z']\n"
          ]
        }
      ]
    },
    {
      "cell_type": "code",
      "source": [
        "## deletion using np.delete(arr, (index1, index2,..)) function in numpy, outputs new np.array\n",
        "## 2nd argument = index\n",
        "\n",
        "arr_2 = [100,200,300,400]\n",
        "new_arr2 = np.delete(arr_2,3)\n",
        "print(new_arr2)"
      ],
      "metadata": {
        "colab": {
          "base_uri": "https://localhost:8080/"
        },
        "id": "wy2GtjQoJ5Rr",
        "outputId": "1f871ca4-957f-4a3f-bf0d-5cf6ec5b77e3"
      },
      "execution_count": null,
      "outputs": [
        {
          "output_type": "stream",
          "name": "stdout",
          "text": [
            "[100 200 300]\n"
          ]
        }
      ]
    },
    {
      "cell_type": "code",
      "source": [
        "del new_arr2[2]\n",
        "print(new_arr2)"
      ],
      "metadata": {
        "colab": {
          "base_uri": "https://localhost:8080/",
          "height": 158
        },
        "id": "3eLE7ARxK22O",
        "outputId": "c752187d-f5fc-49a2-cf5a-3a53015f430e"
      },
      "execution_count": null,
      "outputs": [
        {
          "output_type": "error",
          "ename": "ValueError",
          "evalue": "cannot delete array elements",
          "traceback": [
            "\u001b[0;31m---------------------------------------------------------------------------\u001b[0m",
            "\u001b[0;31mValueError\u001b[0m                                Traceback (most recent call last)",
            "\u001b[0;32m<ipython-input-30-987583b39f39>\u001b[0m in \u001b[0;36m<cell line: 1>\u001b[0;34m()\u001b[0m\n\u001b[0;32m----> 1\u001b[0;31m \u001b[0;32mdel\u001b[0m \u001b[0mnew_arr2\u001b[0m\u001b[0;34m[\u001b[0m\u001b[0;36m2\u001b[0m\u001b[0;34m]\u001b[0m\u001b[0;34m\u001b[0m\u001b[0;34m\u001b[0m\u001b[0m\n\u001b[0m\u001b[1;32m      2\u001b[0m \u001b[0mprint\u001b[0m\u001b[0;34m(\u001b[0m\u001b[0mnew_arr2\u001b[0m\u001b[0;34m)\u001b[0m\u001b[0;34m\u001b[0m\u001b[0;34m\u001b[0m\u001b[0m\n",
            "\u001b[0;31mValueError\u001b[0m: cannot delete array elements"
          ]
        }
      ]
    },
    {
      "cell_type": "code",
      "source": [
        "## deleting multiple values at the same time\n",
        "## new_arr = ['red' 'yellow' 'orange' 'red' 'yellow' 'orange' 'pink' 'mango']\n",
        "new_arr3 = np.delete(new_arr,(0,1))\n",
        "print(new_arr3)\n",
        "print(new_arr)"
      ],
      "metadata": {
        "colab": {
          "base_uri": "https://localhost:8080/"
        },
        "id": "5ATO5Qq_LaTz",
        "outputId": "9e30cfa9-b02a-46a4-c561-9a898d9c448c"
      },
      "execution_count": null,
      "outputs": [
        {
          "output_type": "stream",
          "name": "stdout",
          "text": [
            "['orange' 'red' 'yellow' 'orange' 'pink' 'mango']\n",
            "['red' 'yellow' 'orange' 'red' 'yellow' 'orange' 'pink' 'mango']\n"
          ]
        }
      ]
    },
    {
      "cell_type": "code",
      "source": [
        "## appending multiple values using a iterable\n",
        "print(arr4)\n",
        "arr4 = np.append(arr4 , [\"pink\" , \"mango\"])\n",
        "print(arr4)"
      ],
      "metadata": {
        "colab": {
          "base_uri": "https://localhost:8080/"
        },
        "id": "l6KHIRU0L44_",
        "outputId": "d95e3683-d3f8-4064-aa2b-46adf830521a"
      },
      "execution_count": null,
      "outputs": [
        {
          "output_type": "stream",
          "name": "stdout",
          "text": [
            "['red' 'yellow' 'orange']\n",
            "['red' 'yellow' 'orange' 'pink' 'mango']\n"
          ]
        }
      ]
    },
    {
      "cell_type": "code",
      "source": [
        "## del using masking"
      ],
      "metadata": {
        "id": "ztwGndK8PVH6"
      },
      "execution_count": null,
      "outputs": []
    },
    {
      "cell_type": "code",
      "source": [
        "## sorting= obj.sort(), changes the original np.array\n",
        "\n",
        "n = np.array([1,2,10,2,3,0,7])\n",
        "\n",
        "n.sort()\n",
        "print(n)"
      ],
      "metadata": {
        "colab": {
          "base_uri": "https://localhost:8080/"
        },
        "id": "-q67016fPZOx",
        "outputId": "adbde2dd-cac6-4362-9fd5-f1efea192cd0"
      },
      "execution_count": 7,
      "outputs": [
        {
          "output_type": "stream",
          "name": "stdout",
          "text": [
            "[ 0  1  2  2  3  7 10]\n"
          ]
        }
      ]
    },
    {
      "cell_type": "code",
      "source": [
        "## descending sorting\n",
        "n[::-1]\n",
        "n[::-1].sort()\n",
        "print(n)"
      ],
      "metadata": {
        "colab": {
          "base_uri": "https://localhost:8080/"
        },
        "id": "6GJpSB5-PrjT",
        "outputId": "54bd0c08-91f7-42b4-cf8b-303defc66193"
      },
      "execution_count": 10,
      "outputs": [
        {
          "output_type": "stream",
          "name": "stdout",
          "text": [
            "[10  7  3  2  2  1  0]\n"
          ]
        }
      ]
    },
    {
      "cell_type": "code",
      "source": [
        "## searching\n",
        "10 in n"
      ],
      "metadata": {
        "colab": {
          "base_uri": "https://localhost:8080/"
        },
        "id": "oAIzRxyNP0yq",
        "outputId": "bd904210-89bf-48e0-acbb-f292597172d2"
      },
      "execution_count": null,
      "outputs": [
        {
          "output_type": "execute_result",
          "data": {
            "text/plain": [
              "True"
            ]
          },
          "metadata": {},
          "execution_count": 38
        }
      ]
    },
    {
      "cell_type": "code",
      "source": [
        "## string\n",
        "\n",
        "## joins is used to combine string elts of a collection\n",
        "## \"delimiter\".join(iterable)\n",
        "st1 = \"hello boy\"\n",
        "st2 = \"every boy\"\n",
        "lst = st1.split(\" \") + st2.split(\" \")\n",
        "new = \" \".join(lst)\n",
        "print(new)"
      ],
      "metadata": {
        "id": "uGqUaJpIQ6Un",
        "colab": {
          "base_uri": "https://localhost:8080/"
        },
        "outputId": "af7823d3-6d0f-48d4-e6d8-df89d90c265c"
      },
      "execution_count": null,
      "outputs": [
        {
          "output_type": "stream",
          "name": "stdout",
          "text": [
            "hello boy every boy\n"
          ]
        }
      ]
    },
    {
      "cell_type": "code",
      "source": [
        "## split() , partition() , find()\n",
        "\n",
        "st3 = \"Life is crazy\"\n",
        "print(st3[-5::])"
      ],
      "metadata": {
        "colab": {
          "base_uri": "https://localhost:8080/"
        },
        "id": "RyZLAuBATEfV",
        "outputId": "6821e875-9331-48ef-fa51-6a324fd1e331"
      },
      "execution_count": null,
      "outputs": [
        {
          "output_type": "stream",
          "name": "stdout",
          "text": [
            "crazy\n"
          ]
        }
      ]
    },
    {
      "cell_type": "code",
      "source": [
        "##\n",
        "## find() , index() , count() , in best"
      ],
      "metadata": {
        "id": "JVc3TFd4UTS7"
      },
      "execution_count": null,
      "outputs": []
    },
    {
      "cell_type": "code",
      "source": [
        "##\n",
        "\n",
        "text = \" ######@@@@@@get a@@@@@#####         \"\n",
        "text.strip(\"#@ \")\n"
      ],
      "metadata": {
        "colab": {
          "base_uri": "https://localhost:8080/",
          "height": 35
        },
        "id": "EQfJfDekg2pm",
        "outputId": "5af64ef0-e3c7-47f3-9c94-807e91c5573d"
      },
      "execution_count": null,
      "outputs": [
        {
          "output_type": "execute_result",
          "data": {
            "text/plain": [
              "'get a'"
            ],
            "application/vnd.google.colaboratory.intrinsic+json": {
              "type": "string"
            }
          },
          "metadata": {},
          "execution_count": 7
        }
      ]
    },
    {
      "cell_type": "code",
      "source": [
        "## dynamic array\n",
        "\n",
        "import numpy as np\n",
        "\n",
        "a = np.array([])\n",
        "print(a)\n",
        "\n",
        "lst = [\"how\",\"when\",\"where\"]\n",
        "\n",
        "# Extend the array by concatenating with new elements\n",
        "\n",
        "for i in lst:\n",
        "   a = np.concatenate((a, [i]))\n",
        "   print(a)\n",
        "\n",
        "\n",
        "\n"
      ],
      "metadata": {
        "id": "zIwgIAkRhG1O",
        "colab": {
          "base_uri": "https://localhost:8080/"
        },
        "outputId": "6cd4cecc-9f1f-4553-82a2-0f824e4daa8b"
      },
      "execution_count": 14,
      "outputs": [
        {
          "output_type": "stream",
          "name": "stdout",
          "text": [
            "[]\n",
            "['how']\n",
            "['how' 'when']\n",
            "['how' 'when' 'where']\n"
          ]
        }
      ]
    },
    {
      "cell_type": "code",
      "source": [
        "'''\n",
        "n = eval(input())\n",
        "diff = abs(n[0]-n[1])\n",
        "index_1 = 0\n",
        "index_2 = 1\n",
        "for i,v in enumerate(n):\n",
        "    for j in range(i+1,len(n)):\n",
        "        if abs(v - n[j]) < diff:\n",
        "          diff = abs(v-n[j])\n",
        "          index_1 = i\n",
        "          index_2 = j\n",
        "\n",
        "lst = [index_1 , index_2]\n",
        "print(lst)\n",
        "'''\n",
        "\n",
        "n = eval(input())\n",
        "\n",
        "new = sorted(n)\n"
      ],
      "metadata": {
        "colab": {
          "base_uri": "https://localhost:8080/"
        },
        "id": "EoDZjg-OmcZw",
        "outputId": "2d0ebd21-33f1-4a43-bbf6-2b0ac311bd47"
      },
      "execution_count": null,
      "outputs": [
        {
          "output_type": "stream",
          "name": "stdout",
          "text": [
            "[1,7,9,2,10]\n",
            "[0, 3]\n"
          ]
        }
      ]
    },
    {
      "cell_type": "code",
      "source": [
        "## recursion\n",
        "\n",
        "## base case = how to stop loop\n",
        "##\n",
        "\n",
        "\n",
        "def fact(n):\n",
        "\n",
        "  if n == 0:\n",
        "    return 1\n",
        "  else:\n",
        "    return n*fact(n-1)"
      ],
      "metadata": {
        "id": "MMlXmtWGlCtC"
      },
      "execution_count": null,
      "outputs": []
    },
    {
      "cell_type": "code",
      "source": [
        "fact(1000)"
      ],
      "metadata": {
        "id": "jdMywSmx1VXg",
        "outputId": "a80c6f54-ca2e-458f-9688-d7c20b418de3",
        "colab": {
          "base_uri": "https://localhost:8080/",
          "height": 287
        }
      },
      "execution_count": null,
      "outputs": [
        {
          "output_type": "error",
          "ename": "RecursionError",
          "evalue": "maximum recursion depth exceeded in comparison",
          "traceback": [
            "\u001b[0;31m---------------------------------------------------------------------------\u001b[0m",
            "\u001b[0;31mRecursionError\u001b[0m                            Traceback (most recent call last)",
            "\u001b[0;32m<ipython-input-2-a3d790031eab>\u001b[0m in \u001b[0;36m<cell line: 1>\u001b[0;34m()\u001b[0m\n\u001b[0;32m----> 1\u001b[0;31m \u001b[0mfact\u001b[0m\u001b[0;34m(\u001b[0m\u001b[0;36m1000\u001b[0m\u001b[0;34m)\u001b[0m\u001b[0;34m\u001b[0m\u001b[0;34m\u001b[0m\u001b[0m\n\u001b[0m",
            "\u001b[0;32m<ipython-input-1-8c2f507e1379>\u001b[0m in \u001b[0;36mfact\u001b[0;34m(n)\u001b[0m\n\u001b[1;32m     10\u001b[0m     \u001b[0;32mreturn\u001b[0m \u001b[0;36m1\u001b[0m\u001b[0;34m\u001b[0m\u001b[0;34m\u001b[0m\u001b[0m\n\u001b[1;32m     11\u001b[0m   \u001b[0;32melse\u001b[0m\u001b[0;34m:\u001b[0m\u001b[0;34m\u001b[0m\u001b[0;34m\u001b[0m\u001b[0m\n\u001b[0;32m---> 12\u001b[0;31m     \u001b[0;32mreturn\u001b[0m \u001b[0mn\u001b[0m\u001b[0;34m*\u001b[0m\u001b[0mfact\u001b[0m\u001b[0;34m(\u001b[0m\u001b[0mn\u001b[0m\u001b[0;34m-\u001b[0m\u001b[0;36m1\u001b[0m\u001b[0;34m)\u001b[0m\u001b[0;34m\u001b[0m\u001b[0;34m\u001b[0m\u001b[0m\n\u001b[0m",
            "... last 1 frames repeated, from the frame below ...\n",
            "\u001b[0;32m<ipython-input-1-8c2f507e1379>\u001b[0m in \u001b[0;36mfact\u001b[0;34m(n)\u001b[0m\n\u001b[1;32m     10\u001b[0m     \u001b[0;32mreturn\u001b[0m \u001b[0;36m1\u001b[0m\u001b[0;34m\u001b[0m\u001b[0;34m\u001b[0m\u001b[0m\n\u001b[1;32m     11\u001b[0m   \u001b[0;32melse\u001b[0m\u001b[0;34m:\u001b[0m\u001b[0;34m\u001b[0m\u001b[0;34m\u001b[0m\u001b[0m\n\u001b[0;32m---> 12\u001b[0;31m     \u001b[0;32mreturn\u001b[0m \u001b[0mn\u001b[0m\u001b[0;34m*\u001b[0m\u001b[0mfact\u001b[0m\u001b[0;34m(\u001b[0m\u001b[0mn\u001b[0m\u001b[0;34m-\u001b[0m\u001b[0;36m1\u001b[0m\u001b[0;34m)\u001b[0m\u001b[0;34m\u001b[0m\u001b[0;34m\u001b[0m\u001b[0m\n\u001b[0m",
            "\u001b[0;31mRecursionError\u001b[0m: maximum recursion depth exceeded in comparison"
          ]
        }
      ]
    },
    {
      "cell_type": "code",
      "source": [
        "def fib(n):\n",
        "\n",
        "  if n <= 1:\n",
        "    return n\n",
        "  else:\n",
        "    return fib(n-1)+fib(n-2)"
      ],
      "metadata": {
        "id": "oikyLR5coEym"
      },
      "execution_count": 15,
      "outputs": []
    },
    {
      "cell_type": "code",
      "source": [
        "res = fib(6)\n",
        "print(res)"
      ],
      "metadata": {
        "colab": {
          "base_uri": "https://localhost:8080/"
        },
        "id": "S5K1kXm7sTWa",
        "outputId": "f159d986-964f-48bf-9236-6e4ef0299bb3"
      },
      "execution_count": 16,
      "outputs": [
        {
          "output_type": "stream",
          "name": "stdout",
          "text": [
            "8\n"
          ]
        }
      ]
    },
    {
      "cell_type": "code",
      "source": [
        "def sum_lst(lst):\n",
        "  if len(lst) == 1:\n",
        "    return lst[0]\n",
        "  else:\n",
        "    return lst[0] + sum_lst(lst[1::])"
      ],
      "metadata": {
        "id": "iHe5gdSsyeFT"
      },
      "execution_count": null,
      "outputs": []
    },
    {
      "cell_type": "code",
      "source": [
        "def trib(n):\n",
        "  if n <= 1:\n",
        "    return n\n",
        "  elif n == 2:\n",
        "    return 1\n",
        "  else:\n",
        "    return trib(n-1)+trib(n-2)+trib(n-3)"
      ],
      "metadata": {
        "id": "reH4mR_N5lPX"
      },
      "execution_count": null,
      "outputs": []
    },
    {
      "cell_type": "code",
      "source": [
        "def product_lst(lst):\n",
        "  if len(lst) == 1:\n",
        "    return lst[0]\n",
        "  else:\n",
        "    return lst[0]*product_lst(lst[1::])\n"
      ],
      "metadata": {
        "id": "08bF8EsC51m1"
      },
      "execution_count": null,
      "outputs": []
    },
    {
      "cell_type": "code",
      "source": [
        "def pal(string):\n",
        "  if len(string) == 1:\n",
        "    return \"palindrome\"\n",
        "  elif string[0] != string[-1]:\n",
        "    return \"not palindrome\"\n",
        "  else:\n",
        "    return pal(string[1:-1])"
      ],
      "metadata": {
        "id": "hrfNR8Tx8VwO"
      },
      "execution_count": null,
      "outputs": []
    },
    {
      "cell_type": "code",
      "source": [
        "def sumdig(n):\n",
        "  if n < 10:\n",
        "    return n\n",
        "  else:\n",
        "    return n%10 + sumdig(n//10)"
      ],
      "metadata": {
        "id": "JzwQ7x_c_Hio"
      },
      "execution_count": null,
      "outputs": []
    },
    {
      "cell_type": "code",
      "source": [
        "lst = list(eval(input()))\n",
        "print(type(lst))\n",
        "print(lst)"
      ],
      "metadata": {
        "id": "EY9dKaglASrK",
        "colab": {
          "base_uri": "https://localhost:8080/"
        },
        "outputId": "615e654b-5d29-4600-ce79-8a92c886d457"
      },
      "execution_count": null,
      "outputs": [
        {
          "output_type": "stream",
          "name": "stdout",
          "text": [
            "1,2,3\n",
            "<class 'list'>\n",
            "[1, 2, 3]\n"
          ]
        }
      ]
    }
  ]
}